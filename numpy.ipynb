{
 "cells": [
  {
   "cell_type": "markdown",
   "id": "90d7e529",
   "metadata": {},
   "source": [
    "# pip install numpy"
   ]
  },
  {
   "cell_type": "code",
   "execution_count": 2,
   "id": "a5288653",
   "metadata": {},
   "outputs": [
    {
     "name": "stdout",
     "output_type": "stream",
     "text": [
      "[1 2 3 4 5]\n"
     ]
    },
    {
     "data": {
      "text/plain": [
       "list"
      ]
     },
     "execution_count": 2,
     "metadata": {},
     "output_type": "execute_result"
    }
   ],
   "source": [
    "import numpy as np\n",
    "mylist = [1,2,3,4,5]\n",
    "mynum = np.array(mylist)\n",
    "print(mynum)\n",
    "type(mylist)"
   ]
  },
  {
   "cell_type": "code",
   "execution_count": 18,
   "id": "a46713a2",
   "metadata": {},
   "outputs": [
    {
     "data": {
      "text/plain": [
       "array([1, 2, 4])"
      ]
     },
     "execution_count": 18,
     "metadata": {},
     "output_type": "execute_result"
    }
   ],
   "source": [
    "num2 = np.array([1,2,4])\n",
    "num2"
   ]
  },
  {
   "cell_type": "code",
   "execution_count": 19,
   "id": "97cfc0d5",
   "metadata": {},
   "outputs": [
    {
     "data": {
      "text/plain": [
       "array([1, 2, 4])"
      ]
     },
     "execution_count": 19,
     "metadata": {},
     "output_type": "execute_result"
    }
   ],
   "source": [
    "num3 = np.array((1,2,4))\n",
    "num3"
   ]
  },
  {
   "cell_type": "code",
   "execution_count": 20,
   "id": "65d3f613",
   "metadata": {},
   "outputs": [
    {
     "data": {
      "text/plain": [
       "array({4, 5, 6}, dtype=object)"
      ]
     },
     "execution_count": 20,
     "metadata": {},
     "output_type": "execute_result"
    }
   ],
   "source": [
    "num4 = np.array({4,5,6})\n",
    "num4"
   ]
  },
  {
   "cell_type": "code",
   "execution_count": 21,
   "id": "a089ff0c",
   "metadata": {},
   "outputs": [
    {
     "name": "stdout",
     "output_type": "stream",
     "text": [
      "<class 'numpy.ndarray'>\n"
     ]
    }
   ],
   "source": [
    "print(type(num4))"
   ]
  },
  {
   "cell_type": "code",
   "execution_count": 26,
   "id": "2e0f986c",
   "metadata": {},
   "outputs": [
    {
     "name": "stdout",
     "output_type": "stream",
     "text": [
      "[22. 35. 54. 84.]\n"
     ]
    }
   ],
   "source": [
    "A = [1.5,2,3,5]\n",
    "B = (4,5,6,7)\n",
    "A = np.array(A)\n",
    "B = np.array(B)\n",
    "type(A)\n",
    "type(B)\n",
    "print((A+B)*B)"
   ]
  },
  {
   "cell_type": "code",
   "execution_count": 23,
   "id": "32e009f4",
   "metadata": {},
   "outputs": [
    {
     "name": "stdout",
     "output_type": "stream",
     "text": [
      "[-3 -3 -3 -2]\n",
      "[ 4 10 18 35]\n",
      "[0.25       0.4        0.5        0.71428571]\n"
     ]
    }
   ],
   "source": [
    "print(A-B)\n",
    "print(A*B)\n",
    "print(A/B)"
   ]
  },
  {
   "cell_type": "code",
   "execution_count": 27,
   "id": "119d3c05",
   "metadata": {},
   "outputs": [
    {
     "name": "stdout",
     "output_type": "stream",
     "text": [
      "float64\n"
     ]
    }
   ],
   "source": [
    "print(A.dtype)"
   ]
  },
  {
   "cell_type": "code",
   "execution_count": 31,
   "id": "0fa40711",
   "metadata": {},
   "outputs": [
    {
     "name": "stdout",
     "output_type": "stream",
     "text": [
      "33.0\n",
      "42\n",
      "20\n",
      "198\n"
     ]
    }
   ],
   "source": [
    "data = [20,30,31,35,40,42]\n",
    "print(np.mean(data))\n",
    "print(np.max(data))\n",
    "print(np.min(data))\n",
    "print(np.sum(data))"
   ]
  },
  {
   "cell_type": "code",
   "execution_count": 63,
   "id": "eea4a505",
   "metadata": {},
   "outputs": [
    {
     "data": {
      "text/plain": [
       "array([[[25, 82, 50, 41, 13, 56, 75, 12, 13, 19],\n",
       "        [73,  7, 93,  6, 26, 12,  2, 92, 59, 40],\n",
       "        [65, 90,  2, 19, 87, 37, 60,  8, 32,  9],\n",
       "        [96, 69, 45, 84, 98, 66, 42, 48, 65, 92],\n",
       "        [98, 18,  3, 50, 35, 70, 27, 41, 90, 91],\n",
       "        [93, 34, 40, 68, 16, 74, 73, 76,  4, 29],\n",
       "        [16,  1, 22, 98, 38, 24, 85, 32, 28, 48],\n",
       "        [22, 60, 96, 33, 35, 78, 29, 95, 82, 78],\n",
       "        [18,  7, 48, 15, 37,  2, 31, 47, 60, 30],\n",
       "        [42, 92, 12, 40, 97, 51, 90, 28, 79, 19]],\n",
       "\n",
       "       [[21,  4, 31, 57,  2, 49, 68, 50, 41, 15],\n",
       "        [20, 88, 49, 49, 90, 12, 64, 44, 13, 17],\n",
       "        [22, 91, 57, 24, 31, 48, 63,  9, 45, 67],\n",
       "        [92, 91,  3, 93, 94, 51, 77, 79, 58, 33],\n",
       "        [32, 60, 60, 33,  1, 82, 65, 98, 85, 41],\n",
       "        [97, 50, 99, 91, 54, 22, 75, 66, 66, 43],\n",
       "        [78, 33, 40, 97, 90, 26, 60, 86,  1, 46],\n",
       "        [43, 94,  6, 56, 49, 87, 84, 13, 19, 76],\n",
       "        [21, 20, 27, 22, 50, 92, 12, 45, 55, 72],\n",
       "        [32, 86,  3, 40, 82, 68, 79, 31, 23, 42]],\n",
       "\n",
       "       [[34,  8,  7, 49, 77, 73, 98, 86, 49,  4],\n",
       "        [11, 15, 91, 22, 60, 29, 64, 80, 48, 21],\n",
       "        [34,  1, 28,  5, 64, 54,  2, 23, 22, 23],\n",
       "        [53, 82, 43, 31, 19, 25, 72, 20, 91, 45],\n",
       "        [75, 84, 97, 43, 99, 95, 67,  3, 49, 10],\n",
       "        [92, 96,  2, 98, 95, 78, 30, 36,  5, 46],\n",
       "        [11, 73, 30, 95, 15, 16, 18, 77, 81, 16],\n",
       "        [ 2, 51, 54, 34, 71,  8, 95,  4, 65, 27],\n",
       "        [27, 47,  8, 43, 58, 78, 10, 57, 31, 67],\n",
       "        [21, 41,  2, 23, 49, 70, 70,  2, 60, 16]],\n",
       "\n",
       "       [[35, 62, 37, 40, 14,  8, 30, 25, 45, 42],\n",
       "        [41, 38, 28, 87, 44, 66, 41, 22,  7, 41],\n",
       "        [ 6, 58, 48, 38, 70, 54, 77, 64, 96, 13],\n",
       "        [30, 38, 52, 19, 89,  5, 38, 55, 42, 87],\n",
       "        [ 1, 59, 60, 87, 73, 65, 73, 61, 90, 51],\n",
       "        [ 8, 39,  6, 85, 48, 78,  3, 27, 68,  9],\n",
       "        [73, 99, 14, 57, 33, 52, 90, 62, 15, 21],\n",
       "        [17, 72, 65, 40, 39, 58, 40, 40, 51, 53],\n",
       "        [92,  3, 82,  8, 26, 73, 26, 25, 47, 26],\n",
       "        [80, 44, 36,  1, 28, 91, 64, 27, 50, 44]],\n",
       "\n",
       "       [[24, 93, 48, 24, 16, 78, 77, 30, 39, 93],\n",
       "        [ 3,  7, 16, 57, 43, 96, 62, 46, 25, 99],\n",
       "        [ 2, 25, 22, 26,  4, 31, 66, 84, 91, 34],\n",
       "        [87, 17, 16, 43, 10, 14, 62, 63, 29, 30],\n",
       "        [50,  5, 44,  8, 88, 27, 32, 24, 54, 58],\n",
       "        [71, 68, 33, 71, 13, 99, 82, 85, 68, 46],\n",
       "        [ 6, 89, 14, 31, 54,  9, 60, 38, 14, 82],\n",
       "        [28, 75, 33, 17, 27, 31, 29, 81, 17, 64],\n",
       "        [91, 77, 50, 18, 65, 45, 34, 60, 29, 26],\n",
       "        [24,  5, 82, 84, 59, 44, 43, 34, 48, 99]],\n",
       "\n",
       "       [[72, 73, 19, 65, 65, 57, 71, 31,  2, 16],\n",
       "        [59,  8, 98, 53, 67, 93, 99, 93, 74, 40],\n",
       "        [96, 66, 64, 44, 73, 71, 61, 42, 36, 86],\n",
       "        [86, 57, 51, 71, 56,  7, 88, 40, 52, 25],\n",
       "        [91, 87, 13, 68, 26, 16, 75, 66, 73, 46],\n",
       "        [23, 98, 34, 66, 57, 87, 38,  1, 63, 17],\n",
       "        [81, 41, 52, 26, 98, 46, 40,  5, 27,  8],\n",
       "        [ 5, 52, 68, 85, 25, 29, 72, 46, 34, 91],\n",
       "        [73, 74, 67, 36, 81, 61, 59, 92, 88,  7],\n",
       "        [78, 50,  3, 88, 48, 91, 74, 70, 94, 85]],\n",
       "\n",
       "       [[ 6, 79, 90, 30, 40, 84, 12, 60, 70, 64],\n",
       "        [94, 53, 60, 62, 68, 56, 68, 14, 63, 25],\n",
       "        [58, 99, 63, 67, 13, 86, 71, 88, 84, 57],\n",
       "        [41, 98, 24, 86, 11, 49, 86, 81, 40, 79],\n",
       "        [75, 15,  4, 55, 46, 80, 26,  9, 84, 50],\n",
       "        [28, 11,  4, 85, 12, 22, 54, 92, 17,  3],\n",
       "        [73, 74, 48, 15, 87, 56, 13, 74, 18, 80],\n",
       "        [35, 40, 99, 14, 79, 18, 47, 57, 49, 98],\n",
       "        [51, 13,  3, 95, 80,  3, 14,  2, 55, 28],\n",
       "        [51, 40, 93,  8, 44, 62, 96, 35, 53, 97]],\n",
       "\n",
       "       [[31, 41, 17, 79, 44, 23, 54, 76, 66, 26],\n",
       "        [ 1, 10, 27, 34, 61, 71, 96, 10, 50,  7],\n",
       "        [68, 91, 85, 20, 21, 21, 83, 79, 27, 25],\n",
       "        [ 5, 92, 50, 81, 63, 89, 19, 12, 27, 91],\n",
       "        [18,  3, 48, 90,  1, 29, 68, 15, 88, 41],\n",
       "        [84, 59, 22, 80, 39, 75, 75, 56, 15, 28],\n",
       "        [59, 83, 16, 62, 65, 25, 75, 49, 46, 25],\n",
       "        [70, 60,  5, 96,  1, 46, 29,  1, 17, 93],\n",
       "        [59, 96,  1, 25, 47, 26, 28, 15, 60, 90],\n",
       "        [41, 29, 90, 20, 42, 78, 19, 78, 95, 26]],\n",
       "\n",
       "       [[28, 71, 55, 45,  6, 37, 35,  1, 78, 83],\n",
       "        [47, 93, 77, 12, 79, 89, 18, 96, 86, 13],\n",
       "        [75, 20, 66,  4, 81, 25, 28, 79, 24, 66],\n",
       "        [57, 48,  3, 36, 34, 80, 56, 96, 21, 81],\n",
       "        [24, 52, 59, 64, 32, 70, 63, 38, 88, 18],\n",
       "        [73, 80, 77, 82, 16, 74, 90, 88, 98, 37],\n",
       "        [71, 96, 36, 91, 88, 35, 50,  6, 72, 89],\n",
       "        [ 4, 75, 94, 82, 68, 82, 38, 48, 29, 18],\n",
       "        [14, 64, 55,  4, 91, 64, 90, 29, 99,  2],\n",
       "        [37, 83, 25, 22, 72, 50, 98, 99, 18, 13]],\n",
       "\n",
       "       [[88, 45, 10, 80, 13, 10,  5, 15, 10, 33],\n",
       "        [78, 73, 69, 44, 43, 79, 11, 79, 32, 77],\n",
       "        [52, 66, 29, 50, 63, 27, 50, 93, 84, 21],\n",
       "        [95, 85, 35, 89, 31,  7, 17, 12, 88, 87],\n",
       "        [60, 83, 78,  9, 56, 47, 89, 69, 85, 40],\n",
       "        [83, 38, 84, 58, 61,  2,  4, 81, 76, 35],\n",
       "        [82, 99, 83, 17,  5, 18,  8, 70, 53, 76],\n",
       "        [76,  5, 44, 39, 82, 96, 67, 77, 63, 98],\n",
       "        [83, 15, 53, 80, 31, 89, 68,  1, 10, 89],\n",
       "        [47, 52, 77, 62, 77, 86, 98, 75, 77, 28]]], dtype=int32)"
      ]
     },
     "execution_count": 63,
     "metadata": {},
     "output_type": "execute_result"
    }
   ],
   "source": [
    "import numpy as np\n",
    "data = np.random.randint(1,100,(10,10,10))\n",
    "data"
   ]
  },
  {
   "cell_type": "code",
   "execution_count": 3,
   "id": "d4c62313",
   "metadata": {},
   "outputs": [
    {
     "data": {
      "text/plain": [
       "array([1, 2, 3, 4])"
      ]
     },
     "execution_count": 3,
     "metadata": {},
     "output_type": "execute_result"
    }
   ],
   "source": [
    "A = np.array([1,2,3,4])\n",
    "A"
   ]
  },
  {
   "cell_type": "code",
   "execution_count": 5,
   "id": "93fc6626",
   "metadata": {},
   "outputs": [
    {
     "data": {
      "text/plain": [
       "array([[1, 2, 3],\n",
       "       [1, 2, 3],\n",
       "       [2, 3, 4]])"
      ]
     },
     "execution_count": 5,
     "metadata": {},
     "output_type": "execute_result"
    }
   ],
   "source": [
    "B = [[1,2,3],\n",
    "     [1,2,3],\n",
    "     [2,3,4]]\n",
    "B = np.array(B)\n",
    "B"
   ]
  },
  {
   "cell_type": "code",
   "execution_count": 7,
   "id": "616b71cf",
   "metadata": {},
   "outputs": [
    {
     "name": "stdout",
     "output_type": "stream",
     "text": [
      "(3, 2, 2)\n"
     ]
    }
   ],
   "source": [
    "C = [[[1,2],[2,3]],[[2,3],[5,6]],[[4,5],[4,6]]]\n",
    "C = np.array(C)\n",
    "print(C.shape)"
   ]
  },
  {
   "cell_type": "code",
   "execution_count": 8,
   "id": "80ade0e8",
   "metadata": {},
   "outputs": [
    {
     "name": "stdout",
     "output_type": "stream",
     "text": [
      "(2, 2, 3)\n"
     ]
    }
   ],
   "source": [
    "D =  [[[1,2,6],[2,4,3]],[[2,3,7],[5,4,6]]]\n",
    "D = np.array(D)\n",
    "print(D.shape)"
   ]
  },
  {
   "cell_type": "code",
   "execution_count": null,
   "id": "4f5fa159",
   "metadata": {},
   "outputs": [
    {
     "name": "stdout",
     "output_type": "stream",
     "text": [
      "[[7 7 7 7 7 7 7 7 7 7]\n",
      " [7 7 7 7 7 7 7 7 7 7]\n",
      " [7 7 7 7 7 7 7 7 7 7]\n",
      " [7 7 7 7 7 7 7 7 7 7]\n",
      " [7 7 7 7 7 7 7 7 7 7]\n",
      " [7 7 7 7 7 7 7 7 7 7]\n",
      " [7 7 7 7 7 7 7 7 7 7]\n",
      " [7 7 7 7 7 7 7 7 7 7]\n",
      " [7 7 7 7 7 7 7 7 7 7]\n",
      " [7 7 7 7 7 7 7 7 7 7]]\n"
     ]
    }
   ],
   "source": [
    "arr = np.zeros(5)\n",
    "arr = np.zeros((4,4))\n",
    "arr = np.ones(5)\n",
    "arr = np.ones((5,5),dtype=int)\n",
    "arr = np.full((10,10),7)\n",
    "\n",
    "\n",
    "print(arr)"
   ]
  },
  {
   "cell_type": "code",
   "execution_count": 25,
   "id": "0ad60f1d",
   "metadata": {},
   "outputs": [
    {
     "data": {
      "text/plain": [
       "array([ True, False])"
      ]
     },
     "execution_count": 25,
     "metadata": {},
     "output_type": "execute_result"
    }
   ],
   "source": [
    "arr = np.array((True,False))\n",
    "arr"
   ]
  },
  {
   "cell_type": "code",
   "execution_count": 59,
   "id": "a5ed43a7",
   "metadata": {},
   "outputs": [
    {
     "data": {
      "text/plain": [
       "array([[  300],\n",
       "       [ 3000],\n",
       "       [30000]])"
      ]
     },
     "execution_count": 59,
     "metadata": {},
     "output_type": "execute_result"
    }
   ],
   "source": [
    "import numpy as np\n",
    "\n",
    "t = np.array([1,2,3,4])\n",
    "arr = np.array( [[10,20,30],\n",
    "                [100,200,300],\n",
    "                [1000,2000,3000],\n",
    "                [10000,20000,30000]])\n",
    "\n",
    "t[0:4]\n",
    "arr[0:2,0:2]\n",
    "arr[1:4,2]\n",
    "arr[1:,2:]"
   ]
  }
 ],
 "metadata": {
  "kernelspec": {
   "display_name": "Python 3",
   "language": "python",
   "name": "python3"
  },
  "language_info": {
   "codemirror_mode": {
    "name": "ipython",
    "version": 3
   },
   "file_extension": ".py",
   "mimetype": "text/x-python",
   "name": "python",
   "nbconvert_exporter": "python",
   "pygments_lexer": "ipython3",
   "version": "3.13.5"
  }
 },
 "nbformat": 4,
 "nbformat_minor": 5
}
