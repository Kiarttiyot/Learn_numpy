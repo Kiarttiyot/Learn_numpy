{
 "cells": [
  {
   "cell_type": "markdown",
   "id": "90d7e529",
   "metadata": {},
   "source": [
    "# pip install numpy"
   ]
  },
  {
   "cell_type": "code",
   "execution_count": 2,
   "id": "a5288653",
   "metadata": {},
   "outputs": [
    {
     "name": "stdout",
     "output_type": "stream",
     "text": [
      "[1 2 3 4 5]\n"
     ]
    },
    {
     "data": {
      "text/plain": [
       "list"
      ]
     },
     "execution_count": 2,
     "metadata": {},
     "output_type": "execute_result"
    }
   ],
   "source": [
    "import numpy as np\n",
    "mylist = [1,2,3,4,5]\n",
    "mynum = np.array(mylist)\n",
    "print(mynum)\n",
    "type(mylist)"
   ]
  },
  {
   "cell_type": "code",
   "execution_count": 18,
   "id": "a46713a2",
   "metadata": {},
   "outputs": [
    {
     "data": {
      "text/plain": [
       "array([1, 2, 4])"
      ]
     },
     "execution_count": 18,
     "metadata": {},
     "output_type": "execute_result"
    }
   ],
   "source": [
    "num2 = np.array([1,2,4])\n",
    "num2"
   ]
  },
  {
   "cell_type": "code",
   "execution_count": 19,
   "id": "97cfc0d5",
   "metadata": {},
   "outputs": [
    {
     "data": {
      "text/plain": [
       "array([1, 2, 4])"
      ]
     },
     "execution_count": 19,
     "metadata": {},
     "output_type": "execute_result"
    }
   ],
   "source": [
    "num3 = np.array((1,2,4))\n",
    "num3"
   ]
  },
  {
   "cell_type": "code",
   "execution_count": 20,
   "id": "65d3f613",
   "metadata": {},
   "outputs": [
    {
     "data": {
      "text/plain": [
       "array({4, 5, 6}, dtype=object)"
      ]
     },
     "execution_count": 20,
     "metadata": {},
     "output_type": "execute_result"
    }
   ],
   "source": [
    "num4 = np.array({4,5,6})\n",
    "num4"
   ]
  },
  {
   "cell_type": "code",
   "execution_count": 21,
   "id": "a089ff0c",
   "metadata": {},
   "outputs": [
    {
     "name": "stdout",
     "output_type": "stream",
     "text": [
      "<class 'numpy.ndarray'>\n"
     ]
    }
   ],
   "source": [
    "print(type(num4))"
   ]
  },
  {
   "cell_type": "code",
   "execution_count": 26,
   "id": "2e0f986c",
   "metadata": {},
   "outputs": [
    {
     "name": "stdout",
     "output_type": "stream",
     "text": [
      "[22. 35. 54. 84.]\n"
     ]
    }
   ],
   "source": [
    "A = [1.5,2,3,5]\n",
    "B = (4,5,6,7)\n",
    "A = np.array(A)\n",
    "B = np.array(B)\n",
    "type(A)\n",
    "type(B)\n",
    "print((A+B)*B)"
   ]
  },
  {
   "cell_type": "code",
   "execution_count": 23,
   "id": "32e009f4",
   "metadata": {},
   "outputs": [
    {
     "name": "stdout",
     "output_type": "stream",
     "text": [
      "[-3 -3 -3 -2]\n",
      "[ 4 10 18 35]\n",
      "[0.25       0.4        0.5        0.71428571]\n"
     ]
    }
   ],
   "source": [
    "print(A-B)\n",
    "print(A*B)\n",
    "print(A/B)"
   ]
  },
  {
   "cell_type": "code",
   "execution_count": 27,
   "id": "119d3c05",
   "metadata": {},
   "outputs": [
    {
     "name": "stdout",
     "output_type": "stream",
     "text": [
      "float64\n"
     ]
    }
   ],
   "source": [
    "print(A.dtype)"
   ]
  },
  {
   "cell_type": "code",
   "execution_count": 31,
   "id": "0fa40711",
   "metadata": {},
   "outputs": [
    {
     "name": "stdout",
     "output_type": "stream",
     "text": [
      "33.0\n",
      "42\n",
      "20\n",
      "198\n"
     ]
    }
   ],
   "source": [
    "data = [20,30,31,35,40,42]\n",
    "print(np.mean(data))\n",
    "print(np.max(data))\n",
    "print(np.min(data))\n",
    "print(np.sum(data))"
   ]
  },
  {
   "cell_type": "code",
   "execution_count": 16,
   "id": "eea4a505",
   "metadata": {},
   "outputs": [
    {
     "data": {
      "text/plain": [
       "array([[32, 36, 27, 79, 12, 28, 34, 73, 61, 95],\n",
       "       [37, 96, 40, 41,  9, 35,  8,  5, 79, 63],\n",
       "       [ 2, 80, 76, 62, 17,  8, 42,  1, 35, 51],\n",
       "       [ 4, 79, 42, 44, 79, 74, 20, 78, 97, 18],\n",
       "       [46, 99, 32, 77, 88, 67, 91, 69, 49, 27],\n",
       "       [32, 29, 12, 23, 60,  4, 44, 63, 81, 16],\n",
       "       [53, 27, 63, 10, 14, 83, 89, 68, 41, 33],\n",
       "       [80, 57,  7, 99, 16, 63, 85,  5, 83, 44],\n",
       "       [35, 10, 23, 55, 73, 65, 74, 60, 86, 83],\n",
       "       [26, 35, 68, 76, 49, 91, 79, 40, 86, 83]], dtype=int32)"
      ]
     },
     "execution_count": 16,
     "metadata": {},
     "output_type": "execute_result"
    }
   ],
   "source": [
    "import numpy as np\n",
    "data = np.random.randint(1,100,(10,10))\n",
    "data"
   ]
  },
  {
   "cell_type": "code",
   "execution_count": 3,
   "id": "d4c62313",
   "metadata": {},
   "outputs": [
    {
     "data": {
      "text/plain": [
       "array([1, 2, 3, 4])"
      ]
     },
     "execution_count": 3,
     "metadata": {},
     "output_type": "execute_result"
    }
   ],
   "source": [
    "A = np.array([1,2,3,4])\n",
    "A"
   ]
  },
  {
   "cell_type": "code",
   "execution_count": 5,
   "id": "93fc6626",
   "metadata": {},
   "outputs": [
    {
     "data": {
      "text/plain": [
       "array([[1, 2, 3],\n",
       "       [1, 2, 3],\n",
       "       [2, 3, 4]])"
      ]
     },
     "execution_count": 5,
     "metadata": {},
     "output_type": "execute_result"
    }
   ],
   "source": [
    "B = [[1,2,3],\n",
    "     [1,2,3],\n",
    "     [2,3,4]]\n",
    "B = np.array(B)\n",
    "B"
   ]
  },
  {
   "cell_type": "code",
   "execution_count": 7,
   "id": "616b71cf",
   "metadata": {},
   "outputs": [
    {
     "name": "stdout",
     "output_type": "stream",
     "text": [
      "(3, 2, 2)\n"
     ]
    }
   ],
   "source": [
    "C = [[[1,2],[2,3]],[[2,3],[5,6]],[[4,5],[4,6]]]\n",
    "C = np.array(C)\n",
    "print(C.shape)"
   ]
  },
  {
   "cell_type": "code",
   "execution_count": 8,
   "id": "80ade0e8",
   "metadata": {},
   "outputs": [
    {
     "name": "stdout",
     "output_type": "stream",
     "text": [
      "(2, 2, 3)\n"
     ]
    }
   ],
   "source": [
    "D =  [[[1,2,6],[2,4,3]],[[2,3,7],[5,4,6]]]\n",
    "D = np.array(D)\n",
    "print(D.shape)"
   ]
  },
  {
   "cell_type": "code",
   "execution_count": null,
   "id": "4f5fa159",
   "metadata": {},
   "outputs": [
    {
     "name": "stdout",
     "output_type": "stream",
     "text": [
      "[[7 7 7 7 7 7 7 7 7 7]\n",
      " [7 7 7 7 7 7 7 7 7 7]\n",
      " [7 7 7 7 7 7 7 7 7 7]\n",
      " [7 7 7 7 7 7 7 7 7 7]\n",
      " [7 7 7 7 7 7 7 7 7 7]\n",
      " [7 7 7 7 7 7 7 7 7 7]\n",
      " [7 7 7 7 7 7 7 7 7 7]\n",
      " [7 7 7 7 7 7 7 7 7 7]\n",
      " [7 7 7 7 7 7 7 7 7 7]\n",
      " [7 7 7 7 7 7 7 7 7 7]]\n"
     ]
    }
   ],
   "source": [
    "arr = np.zeros(5)\n",
    "arr = np.zeros((4,4))\n",
    "arr = np.ones(5)\n",
    "arr = np.ones((5,5),dtype=int)\n",
    "arr = np.full((10,10),7)\n",
    "\n",
    "\n",
    "print(arr)"
   ]
  },
  {
   "cell_type": "code",
   "execution_count": 25,
   "id": "0ad60f1d",
   "metadata": {},
   "outputs": [
    {
     "data": {
      "text/plain": [
       "array([ True, False])"
      ]
     },
     "execution_count": 25,
     "metadata": {},
     "output_type": "execute_result"
    }
   ],
   "source": [
    "arr = np.array((True,False))\n",
    "arr"
   ]
  },
  {
   "cell_type": "code",
   "execution_count": 59,
   "id": "a5ed43a7",
   "metadata": {},
   "outputs": [
    {
     "data": {
      "text/plain": [
       "array([[  300],\n",
       "       [ 3000],\n",
       "       [30000]])"
      ]
     },
     "execution_count": 59,
     "metadata": {},
     "output_type": "execute_result"
    }
   ],
   "source": [
    "import numpy as np\n",
    "\n",
    "t = np.array([1,2,3,4])\n",
    "arr = np.array( [[10,20,30],\n",
    "                [100,200,300],\n",
    "                [1000,2000,3000],\n",
    "                [10000,20000,30000]])\n",
    "\n",
    "t[0:4]\n",
    "arr[0:2,0:2]\n",
    "arr[1:4,2]\n",
    "arr[1:,2:]"
   ]
  },
  {
   "cell_type": "code",
   "execution_count": 9,
   "id": "0f68508a",
   "metadata": {},
   "outputs": [
    {
     "data": {
      "text/plain": [
       "array([[0.00000000e+000, 0.00000000e+000, 0.00000000e+000,\n",
       "        0.00000000e+000],\n",
       "       [0.00000000e+000, 0.00000000e+000, 0.00000000e+000,\n",
       "        0.00000000e+000],\n",
       "       [0.00000000e+000, 0.00000000e+000, 0.00000000e+000,\n",
       "        0.00000000e+000],\n",
       "       [0.00000000e+000, 0.00000000e+000, 0.00000000e+000,\n",
       "        2.12199579e-314]])"
      ]
     },
     "execution_count": 9,
     "metadata": {},
     "output_type": "execute_result"
    }
   ],
   "source": [
    "import numpy as np\n",
    "v = np.empty(4,dtype='int32')\n",
    "v = np.empty([4,4],dtype='float')\n",
    "v"
   ]
  },
  {
   "cell_type": "code",
   "execution_count": 31,
   "id": "eb1c8186",
   "metadata": {},
   "outputs": [
    {
     "name": "stdout",
     "output_type": "stream",
     "text": [
      "[[1 0 0 0 0]\n",
      " [0 1 0 0 0]\n",
      " [0 0 1 0 0]\n",
      " [0 0 0 1 0]\n",
      " [0 0 0 0 1]]\n",
      "[[3 0 0 0 0]\n",
      " [0 3 0 0 0]\n",
      " [0 0 3 0 0]\n",
      " [0 0 0 3 0]\n",
      " [0 0 0 0 3]]\n",
      "[[1 0 0 0 0]\n",
      " [0 1 0 0 0]\n",
      " [0 0 1 0 0]\n",
      " [0 0 0 1 0]\n",
      " [0 0 0 0 1]]\n",
      "[[5 0 0 0 0]\n",
      " [0 5 0 0 0]\n",
      " [0 0 5 0 0]\n",
      " [0 0 0 5 0]\n",
      " [0 0 0 0 5]]\n"
     ]
    }
   ],
   "source": [
    "a = np.identity(4)\n",
    "a = np.identity(5,dtype='int')\n",
    "print(a)\n",
    "for i in range(len(a)):\n",
    "    for j in range(len(a)):\n",
    "        if a[i,j] == 1:\n",
    "            a[i,j] = 3\n",
    "print(a)\n",
    "\n",
    "\n",
    "b = np.identity(5,dtype=int)\n",
    "print(b)\n",
    "print(b*5)\n",
    "\n"
   ]
  },
  {
   "cell_type": "code",
   "execution_count": 37,
   "id": "6c65bd3a",
   "metadata": {},
   "outputs": [
    {
     "data": {
      "text/plain": [
       "array([[0., 0., 0., 0., 0.],\n",
       "       [1., 0., 0., 0., 0.],\n",
       "       [0., 1., 0., 0., 0.],\n",
       "       [0., 0., 1., 0., 0.],\n",
       "       [0., 0., 0., 1., 0.]])"
      ]
     },
     "execution_count": 37,
     "metadata": {},
     "output_type": "execute_result"
    }
   ],
   "source": [
    "np.eye(5)\n",
    "np.eye(4,3)\n",
    "b = np.eye(5)\n",
    "b = np.eye(5,k=1)\n",
    "b = np.eye(5,k=-1)\n",
    "b"
   ]
  },
  {
   "cell_type": "code",
   "execution_count": null,
   "id": "25d88ee9",
   "metadata": {},
   "outputs": [
    {
     "data": {
      "text/plain": [
       "array([10,  7,  4])"
      ]
     },
     "execution_count": 42,
     "metadata": {},
     "output_type": "execute_result"
    }
   ],
   "source": [
    "a = np.arange(start=0,stop=10,step=2)\n",
    "a = np.arange(1,10)\n",
    "a = np.arange(1,10,2.5)\n",
    "a = np.arange(10,1,-3)\n",
    "\n",
    "a"
   ]
  },
  {
   "cell_type": "code",
   "execution_count": 55,
   "id": "eb93cadd",
   "metadata": {},
   "outputs": [
    {
     "data": {
      "text/plain": [
       "array([   2.,    4.,    8.,   16.,   32.,   64.,  128.,  256.,  512.,\n",
       "       1024.])"
      ]
     },
     "execution_count": 55,
     "metadata": {},
     "output_type": "execute_result"
    }
   ],
   "source": [
    "a1 = np.linspace(1,10,4)\n",
    "a1\n",
    "a2 = np.linspace(1,2,10)\n",
    "a2\n",
    "a3 = np.linspace(1,6,100)\n",
    "a3\n",
    "a4 = np.logspace(1,10,10,base=2)\n",
    "a4"
   ]
  },
  {
   "cell_type": "code",
   "execution_count": null,
   "id": "8cd8d0d5",
   "metadata": {},
   "outputs": [
    {
     "name": "stdout",
     "output_type": "stream",
     "text": [
      "[1. 2. 3. 4. 5. 6. 7. 8. 9.]\n"
     ]
    }
   ],
   "source": [
    "a1 = np.arange(1,10,dtype=int)\n",
    "print(a1.astype('f'))\n",
    "\n",
    "\n",
    "\n"
   ]
  },
  {
   "cell_type": "code",
   "execution_count": 61,
   "id": "0f9b0beb",
   "metadata": {},
   "outputs": [
    {
     "name": "stdout",
     "output_type": "stream",
     "text": [
      "[1 1 0]\n"
     ]
    }
   ],
   "source": [
    "a = np.array([1,True,False],dtype=int)\n",
    "print(a)"
   ]
  },
  {
   "cell_type": "code",
   "execution_count": 65,
   "id": "fadb491e",
   "metadata": {},
   "outputs": [
    {
     "name": "stdout",
     "output_type": "stream",
     "text": [
      "[[3.87454158 3.12577877 1.82174607 1.2249939  3.88042751 1.70771522\n",
      "  1.77799125 1.54679168 2.12104263 3.35176827]\n",
      " [1.59140221 1.65755478 3.36117294 2.8439045  4.95143886 3.00429141\n",
      "  3.21701134 4.73870394 4.8993376  2.72575422]\n",
      " [3.44551851 1.66447658 2.62187095 3.52912798 2.79976131 1.66715461\n",
      "  2.18545913 2.84611814 2.38251148 1.3749791 ]\n",
      " [4.92097908 4.75132014 3.67808358 4.01305857 4.3314137  2.54014313\n",
      "  2.10221614 4.34625898 1.94917604 4.77112654]\n",
      " [2.03754885 2.61742027 2.52834127 1.75057157 3.27061046 4.81628542\n",
      "  1.19020001 3.13747677 3.63224273 4.23569022]\n",
      " [2.80992269 2.48409355 4.8147596  2.23322062 2.76360544 4.22193202\n",
      "  4.08494181 1.40304974 2.95230169 1.61590343]\n",
      " [3.43676834 4.70528246 1.36436798 2.03596147 4.09353457 2.16573241\n",
      "  1.53091395 1.47072519 1.26484194 4.87248822]\n",
      " [1.82864133 3.04294022 3.64635056 4.29589119 1.26589595 3.84325973\n",
      "  3.85707529 2.18941896 2.90906098 2.35746869]\n",
      " [3.60507492 3.79331793 1.82669287 4.20528235 3.8993669  4.80586949\n",
      "  3.93836081 4.4065613  3.95397657 3.28906395]\n",
      " [4.8367598  3.39461995 4.22131604 2.15187504 1.88818663 4.47273512\n",
      "  4.06601829 1.39895314 3.35660077 1.26612558]]\n"
     ]
    }
   ],
   "source": [
    "a = np.random.uniform(1,5,(10,10))\n",
    "print(a)"
   ]
  },
  {
   "cell_type": "code",
   "execution_count": null,
   "id": "56739832",
   "metadata": {},
   "outputs": [
    {
     "data": {
      "text/plain": [
       "array([0.9780346 , 0.89858651, 0.40172951, 0.01430592, 0.57066417,\n",
       "       0.3211514 , 0.32960699, 0.50874592, 0.20868601, 0.78261751])"
      ]
     },
     "execution_count": 66,
     "metadata": {},
     "output_type": "execute_result"
    }
   ],
   "source": [
    "a = np.random.rand(10)\n",
    "print(a)"
   ]
  },
  {
   "cell_type": "code",
   "execution_count": 45,
   "id": "85bd9501",
   "metadata": {},
   "outputs": [
    {
     "name": "stdout",
     "output_type": "stream",
     "text": [
      "[718   6 718 718   4   6   6 718   6 718]\n"
     ]
    }
   ],
   "source": [
    "a = np.array([23,4,5,6,718])\n",
    "print(np.random.choice(a,10))"
   ]
  },
  {
   "cell_type": "code",
   "execution_count": 79,
   "id": "a6ab0a93",
   "metadata": {},
   "outputs": [
    {
     "name": "stdout",
     "output_type": "stream",
     "text": [
      "(5,)\n",
      "int64\n",
      "1\n",
      "5\n",
      "8\n"
     ]
    }
   ],
   "source": [
    "a = np.array([23,4,5,6,718])\n",
    "print(a.shape)\n",
    "print(a.dtype)\n",
    "print(a.ndim)\n",
    "print(a.size)\n",
    "print(a.itemsize)"
   ]
  },
  {
   "cell_type": "code",
   "execution_count": 86,
   "id": "91ad7475",
   "metadata": {},
   "outputs": [
    {
     "name": "stdout",
     "output_type": "stream",
     "text": [
      "(2, 2)\n",
      "int64\n",
      "2\n",
      "4\n",
      "8\n"
     ]
    }
   ],
   "source": [
    "a = np.array([[1,2],[3,4]])\n",
    "print(a.shape)\n",
    "print(a.dtype)\n",
    "print(a.ndim)\n",
    "print(a.size)\n",
    "print(a.itemsize)"
   ]
  },
  {
   "cell_type": "code",
   "execution_count": 102,
   "id": "e22bd2bd",
   "metadata": {},
   "outputs": [
    {
     "name": "stdout",
     "output_type": "stream",
     "text": [
      "[1 2 3 4 5 6 7 8 9]\n",
      "[2 3 4]\n",
      "[2 3 2 3 2 3 2 3]\n",
      "[ 8 11]\n"
     ]
    }
   ],
   "source": [
    "x = np.arange(1,10)\n",
    "print(x)\n",
    "b = x[ [1,2,3]]\n",
    "z = x[[1,2,1,2,1,2,1,2]]\n",
    "print(b)\n",
    "print(z)\n",
    "\n",
    "c = np.array([[1,2,3],\n",
    "              [7,8,9],\n",
    "              [10,11,12]])\n",
    "print(c[[1,2],[1]])"
   ]
  },
  {
   "cell_type": "code",
   "execution_count": null,
   "id": "c11e6059",
   "metadata": {},
   "outputs": [
    {
     "name": "stdout",
     "output_type": "stream",
     "text": [
      "[ -3  -1 -11]\n",
      "[10 11  5 10]\n",
      "[10 10]\n"
     ]
    }
   ],
   "source": [
    "X = np.array([10,-3,-1,11,-11,5,10])\n",
    "print(X[X<0])\n",
    "print(X[X>0])\n",
    "print(X[X==10])"
   ]
  },
  {
   "cell_type": "code",
   "execution_count": 115,
   "id": "f8524dab",
   "metadata": {},
   "outputs": [
    {
     "name": "stdout",
     "output_type": "stream",
     "text": [
      "[[11  4 10]\n",
      " [ 4  7  4]]\n"
     ]
    }
   ],
   "source": [
    "X = np.array([[10,2,7],[3,5,1]])\n",
    "b = np.array([1,2,3] )\n",
    "print(X+b)"
   ]
  },
  {
   "cell_type": "code",
   "execution_count": 17,
   "id": "00fa56b9",
   "metadata": {},
   "outputs": [
    {
     "name": "stdout",
     "output_type": "stream",
     "text": [
      "[ 1  2  3  4  5  6  7  8  9 10]\n",
      "[[ 1  2  3  4  5]\n",
      " [ 6  7  8  9 10]]\n",
      "[[ 1  2]\n",
      " [ 3  4]\n",
      " [ 5  6]\n",
      " [ 7  8]\n",
      " [ 9 10]]\n",
      "[[ 1  2  3  4  5  6  7  8  9 10]]\n",
      "[ 1  2  3  4  5  6  7  8  9 10]\n",
      "[ 1  2  3  4  5  6  7  8  9 10]\n"
     ]
    }
   ],
   "source": [
    "import numpy as np\n",
    "a1 = np.arange(1,11)\n",
    "print(a1)\n",
    "ar = np.reshape(a1,[2,5]) \n",
    "print(ar)\n",
    "ar = np.reshape(ar,[5,2])\n",
    "print(ar)\n",
    "ar = np.reshape(ar,[1,10])\n",
    "print(ar)\n",
    "ar = np.reshape(ar,10)\n",
    "print(ar)\n",
    "ar.reshape([2,5])\n",
    "print(ar)"
   ]
  },
  {
   "cell_type": "code",
   "execution_count": 27,
   "id": "cfbf209b",
   "metadata": {},
   "outputs": [
    {
     "data": {
      "text/plain": [
       "array([[ 1,  2,  3],\n",
       "       [ 4,  5,  6],\n",
       "       [ 7,  8,  9],\n",
       "       [10, 11, 12]])"
      ]
     },
     "execution_count": 27,
     "metadata": {},
     "output_type": "execute_result"
    }
   ],
   "source": [
    "arr = np.arange(1,13)\n",
    "a = np.reshape(arr,[3,-1])\n",
    "a\n",
    "b = np.reshape(arr,[2,-1])\n",
    "b\n",
    "c = np.reshape(arr,[-1,3])\n",
    "c\n"
   ]
  },
  {
   "cell_type": "code",
   "execution_count": 39,
   "id": "05ddf7ed",
   "metadata": {},
   "outputs": [
    {
     "name": "stdout",
     "output_type": "stream",
     "text": [
      "[15  2  3  4  5  6  7  8  9 10 11 12]\n",
      "[[ 1  2  3  4  5  6]\n",
      " [ 7  8  9 10 11 12]]\n"
     ]
    }
   ],
   "source": [
    "arr = np.arange(1,13)\n",
    "a = np.resize(arr,[2,6])\n",
    "arr[0] = 15\n",
    "print(arr)\n",
    "print(a)"
   ]
  },
  {
   "cell_type": "code",
   "execution_count": 30,
   "id": "bf39a0b9",
   "metadata": {},
   "outputs": [
    {
     "name": "stdout",
     "output_type": "stream",
     "text": [
      "[[2 2]\n",
      " [3 4]\n",
      " [5 6]]\n",
      "[1 2 3 4 5 6]\n"
     ]
    }
   ],
   "source": [
    "a = np.array([[1,2],[3,4],[5,6]]) \n",
    "b = a.flatten()\n",
    "a[0,0] = 2\n",
    "print(a)\n",
    "print(b)"
   ]
  },
  {
   "cell_type": "code",
   "execution_count": 33,
   "id": "7914e073",
   "metadata": {},
   "outputs": [
    {
     "name": "stdout",
     "output_type": "stream",
     "text": [
      "[[2 2]\n",
      " [3 4]\n",
      " [5 6]]\n",
      "[2 2 3 4 5 6]\n",
      "[[3 2]\n",
      " [3 4]\n",
      " [5 6]]\n",
      "[3 2 3 4 5 6]\n"
     ]
    }
   ],
   "source": [
    "a = np.array([[1,2],[3,4],[5,6]]) \n",
    "c = a.ravel()\n",
    "a[0,0] = 2\n",
    "print(a)\n",
    "print(c)\n",
    "c[0] = 3\n",
    "print(a)\n",
    "print(c)"
   ]
  },
  {
   "cell_type": "code",
   "execution_count": 46,
   "id": "d5332668",
   "metadata": {},
   "outputs": [
    {
     "name": "stdout",
     "output_type": "stream",
     "text": [
      "[[1 4]\n",
      " [2 5]\n",
      " [3 6]]\n"
     ]
    }
   ],
   "source": [
    "import numpy as np\n",
    "a = [[1,2,3],\n",
    "     [4,5,6]]\n",
    "a = np.array(a)\n",
    "print(a.transpose())"
   ]
  },
  {
   "cell_type": "code",
   "execution_count": 47,
   "id": "39597e1c",
   "metadata": {},
   "outputs": [
    {
     "name": "stdout",
     "output_type": "stream",
     "text": [
      "[[ 37  40]\n",
      " [109 118]]\n",
      "[[59 82]\n",
      " [69 96]]\n"
     ]
    }
   ],
   "source": [
    "a = np.array([[1,2],\n",
    "              [4,5]])\n",
    "b = np.array([[11,12],\n",
    "              [13,14]])\n",
    "c = a.dot(b)\n",
    "d = b.dot(a)\n",
    "print(c)\n",
    "print(d)"
   ]
  },
  {
   "cell_type": "code",
   "execution_count": 56,
   "id": "f6097825",
   "metadata": {},
   "outputs": [
    {
     "name": "stdout",
     "output_type": "stream",
     "text": [
      "sum axis 0 [ 6 10  5]\n",
      "sum axis 1 [ 6 15  0]\n",
      "prod axis 0 [  4  30 -72]\n",
      "prod axis 1 [  6 120 -12]\n",
      "min axis 0 [ 1  2 -4]\n",
      "min axis 1 [ 1  4 -4]\n",
      "max axis 0 [4 5 6]\n",
      "max axis 1 [3 6 3]\n",
      "mean axis 0 [2.         3.33333333 1.66666667]\n",
      "mean axis 1 [2. 5. 0.]\n",
      "argmin axis 0 [0 0 2]\n",
      "argmin axis 1 [0 0 2]\n",
      "argmax axis 0 [1 1 1]\n",
      "argmax axis 1 [2 2 1]\n"
     ]
    }
   ],
   "source": [
    "a = np.array([[1,2,3],\n",
    "              [4,5,6],\n",
    "              [1,3,-4]])\n",
    "print('sum axis 0', np.sum(a,axis=0))\n",
    "print('sum axis 1',np.sum(a,axis=1))\n",
    "print('prod axis 0', np.prod(a,axis=0))\n",
    "print('prod axis 1',np.prod(a,axis=1))\n",
    "print('min axis 0', np.min(a,axis=0))\n",
    "print('min axis 1',np.min(a,axis=1))\n",
    "print('max axis 0', np.max(a,axis=0))\n",
    "print('max axis 1',np.max(a,axis=1))\n",
    "print('mean axis 0', np.mean(a,axis=0))\n",
    "print('mean axis 1',np.mean(a,axis=1))\n",
    "\n",
    "print('argmin axis 0', np.argmin(a,axis=0))\n",
    "print('argmin axis 1',np.argmin(a,axis=1))\n",
    "\n",
    "print('argmax axis 0', np.argmax(a,axis=0))\n",
    "print('argmax axis 1',np.argmax(a,axis=1))"
   ]
  },
  {
   "cell_type": "code",
   "execution_count": 61,
   "id": "f380f414",
   "metadata": {},
   "outputs": [
    {
     "name": "stdout",
     "output_type": "stream",
     "text": [
      "[ 1  2  3  4  5  6  7  8  9 10]\n"
     ]
    },
    {
     "data": {
      "text/plain": [
       "array([ 1,  2,  3,  4,  5,  6,  7,  8,  9, 10, 42])"
      ]
     },
     "execution_count": 61,
     "metadata": {},
     "output_type": "execute_result"
    }
   ],
   "source": [
    "mode = np.arange(1,11)\n",
    "print(mode)\n",
    "np.append(mode,42)"
   ]
  },
  {
   "cell_type": "code",
   "execution_count": 63,
   "id": "f891f6f0",
   "metadata": {},
   "outputs": [
    {
     "name": "stdout",
     "output_type": "stream",
     "text": [
      "[ 1  2  3  4  5  6  7  8  9 10]\n"
     ]
    },
    {
     "data": {
      "text/plain": [
       "array([  1, 100,   2,   3,   4, 100,   5,   6,   7,   8,   9,  10])"
      ]
     },
     "execution_count": 63,
     "metadata": {},
     "output_type": "execute_result"
    }
   ],
   "source": [
    "mode = np.arange(1,11)\n",
    "print(mode)\n",
    "np.insert(mode,1,100)\n",
    "np.insert(mode,(1,4),100)"
   ]
  },
  {
   "cell_type": "code",
   "execution_count": 66,
   "id": "8acbbe54",
   "metadata": {},
   "outputs": [
    {
     "name": "stdout",
     "output_type": "stream",
     "text": [
      "[[1 2]\n",
      " [3 4]]\n"
     ]
    },
    {
     "data": {
      "text/plain": [
       "array([[  1, 100,   2],\n",
       "       [  3,  20,   4]])"
      ]
     },
     "execution_count": 66,
     "metadata": {},
     "output_type": "execute_result"
    }
   ],
   "source": [
    "a = np.array([[1,2],\n",
    "              [3,4]])\n",
    "print(a)\n",
    "np.insert(a,1,100,axis=0)\n",
    "np.insert(a,1,(100,20),axis=0)\n",
    "np.insert(a,1,(100,20),axis=1)"
   ]
  },
  {
   "cell_type": "code",
   "execution_count": 67,
   "id": "82539a7c",
   "metadata": {},
   "outputs": [
    {
     "name": "stdout",
     "output_type": "stream",
     "text": [
      "[ 1  2  3  4  5  6  7  8  9 10]\n",
      "[ 2  3  4  5  6  7  8  9 10]\n"
     ]
    }
   ],
   "source": [
    "mode = np.arange(1,11)\n",
    "print(mode)\n",
    "mode = np.delete(mode,0)\n",
    "print(mode)"
   ]
  },
  {
   "cell_type": "code",
   "execution_count": 69,
   "id": "913c0b1e",
   "metadata": {},
   "outputs": [
    {
     "name": "stdout",
     "output_type": "stream",
     "text": [
      "[[ 1  2  3]\n",
      " [ 4  5  6]\n",
      " [ 1  3 -4]]\n",
      "[[1 2 3]\n",
      " [4 5 6]]\n",
      "[[1 3]\n",
      " [4 6]]\n"
     ]
    }
   ],
   "source": [
    "b = np.array([[1,2,3],\n",
    "              [4,5,6],\n",
    "              [1,3,-4]])\n",
    "print(b)\n",
    "b = np.delete(b,2,axis=0)\n",
    "print(b)\n",
    "b = np.delete(b,1,axis=1)\n",
    "print(b)"
   ]
  },
  {
   "cell_type": "code",
   "execution_count": 77,
   "id": "ead7f4fb",
   "metadata": {},
   "outputs": [
    {
     "name": "stdout",
     "output_type": "stream",
     "text": [
      "[ 1  2  3  4  5  6  7  8  9 10]\n",
      "[array([1, 2]), array([3, 4]), array([5, 6]), array([7, 8]), array([ 9, 10])]\n",
      "[array([[1, 2],\n",
      "       [4, 5],\n",
      "       [1, 3]]), array([[ 3,  5],\n",
      "       [ 6,  5],\n",
      "       [-4,  5]])]\n",
      "[array([[1, 2, 3, 5]]), array([[4, 5, 6, 5]]), array([[ 1,  3, -4,  5]])]\n"
     ]
    }
   ],
   "source": [
    "mode = np.arange(1,11)\n",
    "print(mode)\n",
    "mode = np.split(mode,5)\n",
    "print(mode)\n",
    "b = np.array([[1,2,3,5],\n",
    "              [4,5,6,5],\n",
    "              [1,3,-4,5]])\n",
    "h = np.hsplit(b,2)\n",
    "print(h)\n",
    "v = np.vsplit(b,3)\n",
    "print(v)\n"
   ]
  },
  {
   "cell_type": "code",
   "execution_count": 79,
   "id": "b3d5783b",
   "metadata": {},
   "outputs": [
    {
     "name": "stdout",
     "output_type": "stream",
     "text": [
      "[19 19 19 17 12 16 14 13 13 15 32 36 39 30 32 33 40 30 31 39]\n"
     ]
    }
   ],
   "source": [
    "a1 = np.random.randint(10,21,10)\n",
    "a2 = np.random.randint(30,41,10)\n",
    "\n",
    "arr = np.concatenate([a1,a2])\n",
    "print(arr)"
   ]
  },
  {
   "cell_type": "code",
   "execution_count": 87,
   "id": "a2244642",
   "metadata": {},
   "outputs": [
    {
     "name": "stdout",
     "output_type": "stream",
     "text": [
      "[[3 3]\n",
      " [3 2]]\n",
      "[[8 6]\n",
      " [2 1]]\n",
      "[[3 3]\n",
      " [3 2]\n",
      " [8 6]\n",
      " [2 1]]\n",
      "[[3 3 8 6]\n",
      " [3 2 2 1]]\n"
     ]
    }
   ],
   "source": [
    "a1 = np.random.randint(1,10,(2,2))\n",
    "a2 = np.random.randint(1,10,(2,2))\n",
    "print(a1)\n",
    "print(a2)\n",
    "v = np.vstack([a1,a2])\n",
    "print(v)\n",
    "h = np.hstack([a1,a2])\n",
    "print(h)"
   ]
  },
  {
   "cell_type": "code",
   "execution_count": null,
   "id": "6a890852",
   "metadata": {},
   "outputs": [],
   "source": []
  }
 ],
 "metadata": {
  "kernelspec": {
   "display_name": "Python 3",
   "language": "python",
   "name": "python3"
  },
  "language_info": {
   "codemirror_mode": {
    "name": "ipython",
    "version": 3
   },
   "file_extension": ".py",
   "mimetype": "text/x-python",
   "name": "python",
   "nbconvert_exporter": "python",
   "pygments_lexer": "ipython3",
   "version": "3.13.5"
  }
 },
 "nbformat": 4,
 "nbformat_minor": 5
}
