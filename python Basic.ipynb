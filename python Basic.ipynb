{
 "cells": [
  {
   "cell_type": "code",
   "execution_count": 4,
   "id": "c36f19c1",
   "metadata": {},
   "outputs": [],
   "source": [
    "A = [1,2,3,4,5,6]\n",
    "B = [3,4,5,5,6,7]\n",
    "S = []"
   ]
  },
  {
   "cell_type": "code",
   "execution_count": null,
   "id": "00f2e6c0",
   "metadata": {},
   "outputs": [
    {
     "name": "stdout",
     "output_type": "stream",
     "text": [
      "[4, 6, 8, 9, 11, 13]\n"
     ]
    }
   ],
   "source": [
    "for i in range(len(A)):\n",
    "    print(A[i]+B[i])\n"
   ]
  },
  {
   "cell_type": "code",
   "execution_count": null,
   "id": "d4d05df3",
   "metadata": {},
   "outputs": [],
   "source": [
    "t = [1,2,3,4,5]\n",
    "print(t[0:5:2])\n",
    "print(t[1:])\n",
    "print(t[:5])\n",
    "print(t[:-1])\n",
    "print(t[::-1])"
   ]
  },
  {
   "cell_type": "code",
   "execution_count": null,
   "id": "68ce1d91",
   "metadata": {},
   "outputs": [
    {
     "data": {
      "text/plain": [
       "[1000, 2000]"
      ]
     },
     "execution_count": 15,
     "metadata": {},
     "output_type": "execute_result"
    }
   ],
   "source": [
    "t = [[10,20,30],\n",
    "     [100,200,300],\n",
    "     [1000,2000,3000],\n",
    "     [10000,20000,30000]]\n",
    "t[2][0:2]\n"
   ]
  }
 ],
 "metadata": {
  "kernelspec": {
   "display_name": "Python 3",
   "language": "python",
   "name": "python3"
  },
  "language_info": {
   "codemirror_mode": {
    "name": "ipython",
    "version": 3
   },
   "file_extension": ".py",
   "mimetype": "text/x-python",
   "name": "python",
   "nbconvert_exporter": "python",
   "pygments_lexer": "ipython3",
   "version": "3.13.5"
  }
 },
 "nbformat": 4,
 "nbformat_minor": 5
}
